{
 "cells": [
  {
   "cell_type": "markdown",
   "id": "151d8892",
   "metadata": {},
   "source": [
    "### Importing Packages"
   ]
  },
  {
   "cell_type": "code",
   "execution_count": 142,
   "id": "3dc0c942",
   "metadata": {},
   "outputs": [],
   "source": [
    "import numpy as np\n",
    "import pandas as pd\n",
    "import seaborn as sns\n",
    "import matplotlib.pyplot as plt\n",
    "import missingno as msno\n",
    "%matplotlib inline\n",
    "from sklearn.model_selection import train_test_split\n",
    "from sklearn.preprocessing import OneHotEncoder\n",
    "from sklearn.metrics import mean_squared_error, r2_score\n",
    "from sklearn import metrics\n",
    "from sklearn.tree import DecisionTreeRegressor\n",
    "from sklearn.ensemble import RandomForestRegressor\n",
    "from sklearn import linear_model\n",
    "from sklearn.linear_model import LinearRegression\n",
    "from sklearn.metrics import r2_score"
   ]
  },
  {
   "cell_type": "markdown",
   "id": "0ac31e33",
   "metadata": {},
   "source": [
    "### Importing Dataset"
   ]
  },
  {
   "cell_type": "code",
   "execution_count": 187,
   "id": "1b4b0390",
   "metadata": {},
   "outputs": [],
   "source": [
    "df = pd.read_csv('AB_NYC_2019.csv')"
   ]
  },
  {
   "cell_type": "code",
   "execution_count": 188,
   "id": "a05349d4",
   "metadata": {},
   "outputs": [
    {
     "data": {
      "text/html": [
       "<div>\n",
       "<style scoped>\n",
       "    .dataframe tbody tr th:only-of-type {\n",
       "        vertical-align: middle;\n",
       "    }\n",
       "\n",
       "    .dataframe tbody tr th {\n",
       "        vertical-align: top;\n",
       "    }\n",
       "\n",
       "    .dataframe thead th {\n",
       "        text-align: right;\n",
       "    }\n",
       "</style>\n",
       "<table border=\"1\" class=\"dataframe\">\n",
       "  <thead>\n",
       "    <tr style=\"text-align: right;\">\n",
       "      <th></th>\n",
       "      <th>id</th>\n",
       "      <th>name</th>\n",
       "      <th>host_id</th>\n",
       "      <th>host_name</th>\n",
       "      <th>neighbourhood_group</th>\n",
       "      <th>neighbourhood</th>\n",
       "      <th>latitude</th>\n",
       "      <th>longitude</th>\n",
       "      <th>room_type</th>\n",
       "      <th>price</th>\n",
       "      <th>minimum_nights</th>\n",
       "      <th>number_of_reviews</th>\n",
       "      <th>last_review</th>\n",
       "      <th>reviews_per_month</th>\n",
       "      <th>calculated_host_listings_count</th>\n",
       "      <th>availability_365</th>\n",
       "    </tr>\n",
       "  </thead>\n",
       "  <tbody>\n",
       "    <tr>\n",
       "      <th>0</th>\n",
       "      <td>2539</td>\n",
       "      <td>Clean &amp; quiet apt home by the park</td>\n",
       "      <td>2787</td>\n",
       "      <td>John</td>\n",
       "      <td>Brooklyn</td>\n",
       "      <td>Kensington</td>\n",
       "      <td>40.64749</td>\n",
       "      <td>-73.97237</td>\n",
       "      <td>Private room</td>\n",
       "      <td>149</td>\n",
       "      <td>1</td>\n",
       "      <td>9</td>\n",
       "      <td>2018-10-19</td>\n",
       "      <td>0.21</td>\n",
       "      <td>6</td>\n",
       "      <td>365</td>\n",
       "    </tr>\n",
       "    <tr>\n",
       "      <th>1</th>\n",
       "      <td>2595</td>\n",
       "      <td>Skylit Midtown Castle</td>\n",
       "      <td>2845</td>\n",
       "      <td>Jennifer</td>\n",
       "      <td>Manhattan</td>\n",
       "      <td>Midtown</td>\n",
       "      <td>40.75362</td>\n",
       "      <td>-73.98377</td>\n",
       "      <td>Entire home/apt</td>\n",
       "      <td>225</td>\n",
       "      <td>1</td>\n",
       "      <td>45</td>\n",
       "      <td>2019-05-21</td>\n",
       "      <td>0.38</td>\n",
       "      <td>2</td>\n",
       "      <td>355</td>\n",
       "    </tr>\n",
       "    <tr>\n",
       "      <th>2</th>\n",
       "      <td>3647</td>\n",
       "      <td>THE VILLAGE OF HARLEM....NEW YORK !</td>\n",
       "      <td>4632</td>\n",
       "      <td>Elisabeth</td>\n",
       "      <td>Manhattan</td>\n",
       "      <td>Harlem</td>\n",
       "      <td>40.80902</td>\n",
       "      <td>-73.94190</td>\n",
       "      <td>Private room</td>\n",
       "      <td>150</td>\n",
       "      <td>3</td>\n",
       "      <td>0</td>\n",
       "      <td>NaN</td>\n",
       "      <td>NaN</td>\n",
       "      <td>1</td>\n",
       "      <td>365</td>\n",
       "    </tr>\n",
       "    <tr>\n",
       "      <th>3</th>\n",
       "      <td>3831</td>\n",
       "      <td>Cozy Entire Floor of Brownstone</td>\n",
       "      <td>4869</td>\n",
       "      <td>LisaRoxanne</td>\n",
       "      <td>Brooklyn</td>\n",
       "      <td>Clinton Hill</td>\n",
       "      <td>40.68514</td>\n",
       "      <td>-73.95976</td>\n",
       "      <td>Entire home/apt</td>\n",
       "      <td>89</td>\n",
       "      <td>1</td>\n",
       "      <td>270</td>\n",
       "      <td>2019-07-05</td>\n",
       "      <td>4.64</td>\n",
       "      <td>1</td>\n",
       "      <td>194</td>\n",
       "    </tr>\n",
       "    <tr>\n",
       "      <th>4</th>\n",
       "      <td>5022</td>\n",
       "      <td>Entire Apt: Spacious Studio/Loft by central park</td>\n",
       "      <td>7192</td>\n",
       "      <td>Laura</td>\n",
       "      <td>Manhattan</td>\n",
       "      <td>East Harlem</td>\n",
       "      <td>40.79851</td>\n",
       "      <td>-73.94399</td>\n",
       "      <td>Entire home/apt</td>\n",
       "      <td>80</td>\n",
       "      <td>10</td>\n",
       "      <td>9</td>\n",
       "      <td>2018-11-19</td>\n",
       "      <td>0.10</td>\n",
       "      <td>1</td>\n",
       "      <td>0</td>\n",
       "    </tr>\n",
       "  </tbody>\n",
       "</table>\n",
       "</div>"
      ],
      "text/plain": [
       "     id                                              name  host_id  \\\n",
       "0  2539                Clean & quiet apt home by the park     2787   \n",
       "1  2595                             Skylit Midtown Castle     2845   \n",
       "2  3647               THE VILLAGE OF HARLEM....NEW YORK !     4632   \n",
       "3  3831                   Cozy Entire Floor of Brownstone     4869   \n",
       "4  5022  Entire Apt: Spacious Studio/Loft by central park     7192   \n",
       "\n",
       "     host_name neighbourhood_group neighbourhood  latitude  longitude  \\\n",
       "0         John            Brooklyn    Kensington  40.64749  -73.97237   \n",
       "1     Jennifer           Manhattan       Midtown  40.75362  -73.98377   \n",
       "2    Elisabeth           Manhattan        Harlem  40.80902  -73.94190   \n",
       "3  LisaRoxanne            Brooklyn  Clinton Hill  40.68514  -73.95976   \n",
       "4        Laura           Manhattan   East Harlem  40.79851  -73.94399   \n",
       "\n",
       "         room_type  price  minimum_nights  number_of_reviews last_review  \\\n",
       "0     Private room    149               1                  9  2018-10-19   \n",
       "1  Entire home/apt    225               1                 45  2019-05-21   \n",
       "2     Private room    150               3                  0         NaN   \n",
       "3  Entire home/apt     89               1                270  2019-07-05   \n",
       "4  Entire home/apt     80              10                  9  2018-11-19   \n",
       "\n",
       "   reviews_per_month  calculated_host_listings_count  availability_365  \n",
       "0               0.21                               6               365  \n",
       "1               0.38                               2               355  \n",
       "2                NaN                               1               365  \n",
       "3               4.64                               1               194  \n",
       "4               0.10                               1                 0  "
      ]
     },
     "execution_count": 188,
     "metadata": {},
     "output_type": "execute_result"
    }
   ],
   "source": [
    "df.head()"
   ]
  },
  {
   "cell_type": "markdown",
   "id": "b2114d44",
   "metadata": {},
   "source": [
    "### Descriptive Statistics & Information"
   ]
  },
  {
   "cell_type": "code",
   "execution_count": 189,
   "id": "5394d81b",
   "metadata": {},
   "outputs": [
    {
     "name": "stdout",
     "output_type": "stream",
     "text": [
      "<class 'pandas.core.frame.DataFrame'>\n",
      "RangeIndex: 48895 entries, 0 to 48894\n",
      "Data columns (total 16 columns):\n",
      " #   Column                          Non-Null Count  Dtype  \n",
      "---  ------                          --------------  -----  \n",
      " 0   id                              48895 non-null  int64  \n",
      " 1   name                            48879 non-null  object \n",
      " 2   host_id                         48895 non-null  int64  \n",
      " 3   host_name                       48874 non-null  object \n",
      " 4   neighbourhood_group             48895 non-null  object \n",
      " 5   neighbourhood                   48895 non-null  object \n",
      " 6   latitude                        48895 non-null  float64\n",
      " 7   longitude                       48895 non-null  float64\n",
      " 8   room_type                       48895 non-null  object \n",
      " 9   price                           48895 non-null  int64  \n",
      " 10  minimum_nights                  48895 non-null  int64  \n",
      " 11  number_of_reviews               48895 non-null  int64  \n",
      " 12  last_review                     38843 non-null  object \n",
      " 13  reviews_per_month               38843 non-null  float64\n",
      " 14  calculated_host_listings_count  48895 non-null  int64  \n",
      " 15  availability_365                48895 non-null  int64  \n",
      "dtypes: float64(3), int64(7), object(6)\n",
      "memory usage: 6.0+ MB\n"
     ]
    }
   ],
   "source": [
    "df.info()"
   ]
  },
  {
   "cell_type": "code",
   "execution_count": 190,
   "id": "e2c85094",
   "metadata": {},
   "outputs": [
    {
     "data": {
      "text/plain": [
       "(48895, 16)"
      ]
     },
     "execution_count": 190,
     "metadata": {},
     "output_type": "execute_result"
    }
   ],
   "source": [
    "df.shape"
   ]
  },
  {
   "cell_type": "code",
   "execution_count": 191,
   "id": "2d2965d4",
   "metadata": {},
   "outputs": [
    {
     "data": {
      "text/html": [
       "<div>\n",
       "<style scoped>\n",
       "    .dataframe tbody tr th:only-of-type {\n",
       "        vertical-align: middle;\n",
       "    }\n",
       "\n",
       "    .dataframe tbody tr th {\n",
       "        vertical-align: top;\n",
       "    }\n",
       "\n",
       "    .dataframe thead th {\n",
       "        text-align: right;\n",
       "    }\n",
       "</style>\n",
       "<table border=\"1\" class=\"dataframe\">\n",
       "  <thead>\n",
       "    <tr style=\"text-align: right;\">\n",
       "      <th></th>\n",
       "      <th>id</th>\n",
       "      <th>host_id</th>\n",
       "      <th>latitude</th>\n",
       "      <th>longitude</th>\n",
       "      <th>price</th>\n",
       "      <th>minimum_nights</th>\n",
       "      <th>number_of_reviews</th>\n",
       "      <th>reviews_per_month</th>\n",
       "      <th>calculated_host_listings_count</th>\n",
       "      <th>availability_365</th>\n",
       "    </tr>\n",
       "  </thead>\n",
       "  <tbody>\n",
       "    <tr>\n",
       "      <th>count</th>\n",
       "      <td>4.889500e+04</td>\n",
       "      <td>4.889500e+04</td>\n",
       "      <td>48895.000000</td>\n",
       "      <td>48895.000000</td>\n",
       "      <td>48895.000000</td>\n",
       "      <td>48895.000000</td>\n",
       "      <td>48895.000000</td>\n",
       "      <td>38843.000000</td>\n",
       "      <td>48895.000000</td>\n",
       "      <td>48895.000000</td>\n",
       "    </tr>\n",
       "    <tr>\n",
       "      <th>mean</th>\n",
       "      <td>1.901714e+07</td>\n",
       "      <td>6.762001e+07</td>\n",
       "      <td>40.728949</td>\n",
       "      <td>-73.952170</td>\n",
       "      <td>152.720687</td>\n",
       "      <td>7.029962</td>\n",
       "      <td>23.274466</td>\n",
       "      <td>1.373221</td>\n",
       "      <td>7.143982</td>\n",
       "      <td>112.781327</td>\n",
       "    </tr>\n",
       "    <tr>\n",
       "      <th>std</th>\n",
       "      <td>1.098311e+07</td>\n",
       "      <td>7.861097e+07</td>\n",
       "      <td>0.054530</td>\n",
       "      <td>0.046157</td>\n",
       "      <td>240.154170</td>\n",
       "      <td>20.510550</td>\n",
       "      <td>44.550582</td>\n",
       "      <td>1.680442</td>\n",
       "      <td>32.952519</td>\n",
       "      <td>131.622289</td>\n",
       "    </tr>\n",
       "    <tr>\n",
       "      <th>min</th>\n",
       "      <td>2.539000e+03</td>\n",
       "      <td>2.438000e+03</td>\n",
       "      <td>40.499790</td>\n",
       "      <td>-74.244420</td>\n",
       "      <td>0.000000</td>\n",
       "      <td>1.000000</td>\n",
       "      <td>0.000000</td>\n",
       "      <td>0.010000</td>\n",
       "      <td>1.000000</td>\n",
       "      <td>0.000000</td>\n",
       "    </tr>\n",
       "    <tr>\n",
       "      <th>25%</th>\n",
       "      <td>9.471945e+06</td>\n",
       "      <td>7.822033e+06</td>\n",
       "      <td>40.690100</td>\n",
       "      <td>-73.983070</td>\n",
       "      <td>69.000000</td>\n",
       "      <td>1.000000</td>\n",
       "      <td>1.000000</td>\n",
       "      <td>0.190000</td>\n",
       "      <td>1.000000</td>\n",
       "      <td>0.000000</td>\n",
       "    </tr>\n",
       "    <tr>\n",
       "      <th>50%</th>\n",
       "      <td>1.967728e+07</td>\n",
       "      <td>3.079382e+07</td>\n",
       "      <td>40.723070</td>\n",
       "      <td>-73.955680</td>\n",
       "      <td>106.000000</td>\n",
       "      <td>3.000000</td>\n",
       "      <td>5.000000</td>\n",
       "      <td>0.720000</td>\n",
       "      <td>1.000000</td>\n",
       "      <td>45.000000</td>\n",
       "    </tr>\n",
       "    <tr>\n",
       "      <th>75%</th>\n",
       "      <td>2.915218e+07</td>\n",
       "      <td>1.074344e+08</td>\n",
       "      <td>40.763115</td>\n",
       "      <td>-73.936275</td>\n",
       "      <td>175.000000</td>\n",
       "      <td>5.000000</td>\n",
       "      <td>24.000000</td>\n",
       "      <td>2.020000</td>\n",
       "      <td>2.000000</td>\n",
       "      <td>227.000000</td>\n",
       "    </tr>\n",
       "    <tr>\n",
       "      <th>max</th>\n",
       "      <td>3.648724e+07</td>\n",
       "      <td>2.743213e+08</td>\n",
       "      <td>40.913060</td>\n",
       "      <td>-73.712990</td>\n",
       "      <td>10000.000000</td>\n",
       "      <td>1250.000000</td>\n",
       "      <td>629.000000</td>\n",
       "      <td>58.500000</td>\n",
       "      <td>327.000000</td>\n",
       "      <td>365.000000</td>\n",
       "    </tr>\n",
       "  </tbody>\n",
       "</table>\n",
       "</div>"
      ],
      "text/plain": [
       "                 id       host_id      latitude     longitude         price  \\\n",
       "count  4.889500e+04  4.889500e+04  48895.000000  48895.000000  48895.000000   \n",
       "mean   1.901714e+07  6.762001e+07     40.728949    -73.952170    152.720687   \n",
       "std    1.098311e+07  7.861097e+07      0.054530      0.046157    240.154170   \n",
       "min    2.539000e+03  2.438000e+03     40.499790    -74.244420      0.000000   \n",
       "25%    9.471945e+06  7.822033e+06     40.690100    -73.983070     69.000000   \n",
       "50%    1.967728e+07  3.079382e+07     40.723070    -73.955680    106.000000   \n",
       "75%    2.915218e+07  1.074344e+08     40.763115    -73.936275    175.000000   \n",
       "max    3.648724e+07  2.743213e+08     40.913060    -73.712990  10000.000000   \n",
       "\n",
       "       minimum_nights  number_of_reviews  reviews_per_month  \\\n",
       "count    48895.000000       48895.000000       38843.000000   \n",
       "mean         7.029962          23.274466           1.373221   \n",
       "std         20.510550          44.550582           1.680442   \n",
       "min          1.000000           0.000000           0.010000   \n",
       "25%          1.000000           1.000000           0.190000   \n",
       "50%          3.000000           5.000000           0.720000   \n",
       "75%          5.000000          24.000000           2.020000   \n",
       "max       1250.000000         629.000000          58.500000   \n",
       "\n",
       "       calculated_host_listings_count  availability_365  \n",
       "count                    48895.000000      48895.000000  \n",
       "mean                         7.143982        112.781327  \n",
       "std                         32.952519        131.622289  \n",
       "min                          1.000000          0.000000  \n",
       "25%                          1.000000          0.000000  \n",
       "50%                          1.000000         45.000000  \n",
       "75%                          2.000000        227.000000  \n",
       "max                        327.000000        365.000000  "
      ]
     },
     "execution_count": 191,
     "metadata": {},
     "output_type": "execute_result"
    }
   ],
   "source": [
    "df.describe()"
   ]
  },
  {
   "cell_type": "markdown",
   "id": "e103027a",
   "metadata": {},
   "source": [
    "### Data Cleaning & Preparation"
   ]
  },
  {
   "cell_type": "markdown",
   "id": "90fdd116",
   "metadata": {},
   "source": [
    "### Checking for Null Values"
   ]
  },
  {
   "cell_type": "code",
   "execution_count": 192,
   "id": "eec3d343",
   "metadata": {},
   "outputs": [
    {
     "data": {
      "text/plain": [
       "id                                    0\n",
       "name                                 16\n",
       "host_id                               0\n",
       "host_name                            21\n",
       "neighbourhood_group                   0\n",
       "neighbourhood                         0\n",
       "latitude                              0\n",
       "longitude                             0\n",
       "room_type                             0\n",
       "price                                 0\n",
       "minimum_nights                        0\n",
       "number_of_reviews                     0\n",
       "last_review                       10052\n",
       "reviews_per_month                 10052\n",
       "calculated_host_listings_count        0\n",
       "availability_365                      0\n",
       "dtype: int64"
      ]
     },
     "execution_count": 192,
     "metadata": {},
     "output_type": "execute_result"
    }
   ],
   "source": [
    "df.isna().sum()"
   ]
  },
  {
   "cell_type": "code",
   "execution_count": 193,
   "id": "d8c0e061",
   "metadata": {},
   "outputs": [
    {
     "data": {
      "text/plain": [
       "<AxesSubplot:>"
      ]
     },
     "execution_count": 193,
     "metadata": {},
     "output_type": "execute_result"
    },
    {
     "data": {
      "image/png": "[encoded data removed]",
      "text/plain": [
       "<Figure size 720x360 with 3 Axes>"
      ]
     },
     "metadata": {
      "needs_background": "light"
     },
     "output_type": "display_data"
    }
   ],
   "source": [
    "msno.bar(df, color=\"dodgerblue\", sort=\"ascending\", figsize=(10,5), fontsize=10)"
   ]
  },
  {
   "cell_type": "code",
   "execution_count": 194,
   "id": "5fdfe7cd",
   "metadata": {},
   "outputs": [],
   "source": [
    "# sns.heatmap(df.isnull(),cbar=True, cmap='viridis')"
   ]
  },
  {
   "cell_type": "code",
   "execution_count": 195,
   "id": "f00effde",
   "metadata": {},
   "outputs": [],
   "source": [
    "#msno.heatmap(df, figsize=(10,5))"
   ]
  },
  {
   "cell_type": "markdown",
   "id": "86832908",
   "metadata": {},
   "source": [
    "### Dropping Unnecessary Records"
   ]
  },
  {
   "cell_type": "code",
   "execution_count": 196,
   "id": "c54b2261",
   "metadata": {},
   "outputs": [],
   "source": [
    "df.dropna(subset = ['name'], inplace=True)\n",
    "df.dropna(subset = ['host_name'], inplace=True)"
   ]
  },
  {
   "cell_type": "markdown",
   "id": "1b16611a",
   "metadata": {},
   "source": [
    "### Changing datatype for date column"
   ]
  },
  {
   "cell_type": "code",
   "execution_count": 197,
   "id": "63f80963",
   "metadata": {},
   "outputs": [],
   "source": [
    "df['last_review'] = df['last_review'].astype(str).astype('datetime64[ns]')"
   ]
  },
  {
   "cell_type": "markdown",
   "id": "14577dee",
   "metadata": {},
   "source": [
    "### Checking imputed values "
   ]
  },
  {
   "cell_type": "code",
   "execution_count": 198,
   "id": "f81706b9",
   "metadata": {},
   "outputs": [
    {
     "data": {
      "text/plain": [
       "<matplotlib.legend.Legend at 0x7fea085f1ac0>"
      ]
     },
     "execution_count": 198,
     "metadata": {},
     "output_type": "execute_result"
    },
    {
     "data": {
      "image/png": "[encoded data removed]",
      "text/plain": [
       "<Figure size 432x288 with 1 Axes>"
      ]
     },
     "metadata": {
      "needs_background": "light"
     },
     "output_type": "display_data"
    }
   ],
   "source": [
    "reviews_per_month_mean = df.reviews_per_month.mean()\n",
    "reviews_per_month_median = df.reviews_per_month.median()\n",
    "df['reviews_per_month_mean'] = df.reviews_per_month.fillna(reviews_per_month_mean)\n",
    "df['reviews_per_month_median'] = df.reviews_per_month.fillna(reviews_per_month_median)\n",
    "\n",
    "sns.kdeplot(df['reviews_per_month_mean'],color='blue',label='Mean')\n",
    "sns.kdeplot(df['reviews_per_month_median'],color='black',label='Median')\n",
    "sns.kdeplot(df['reviews_per_month'],color='red',label='Original')\n",
    "plt.legend()"
   ]
  },
  {
   "cell_type": "markdown",
   "id": "99400ed6",
   "metadata": {},
   "source": [
    "### Imputing N/A values with central tendency; replacing with mean values"
   ]
  },
  {
   "cell_type": "code",
   "execution_count": 199,
   "id": "461d69cd",
   "metadata": {},
   "outputs": [],
   "source": [
    "df['reviews_per_month'] = df['reviews_per_month'].fillna(df['reviews_per_month'].mean())"
   ]
  },
  {
   "cell_type": "code",
   "execution_count": 200,
   "id": "8db88fc2",
   "metadata": {},
   "outputs": [],
   "source": [
    "df['last_review'] = df['last_review'].fillna(df['last_review'].mean())"
   ]
  },
  {
   "cell_type": "code",
   "execution_count": 201,
   "id": "4773b618",
   "metadata": {},
   "outputs": [],
   "source": [
    "df['last_review'] = pd.to_datetime(df['last_review']).dt.date"
   ]
  },
  {
   "cell_type": "markdown",
   "id": "51f41419",
   "metadata": {},
   "source": [
    "### Correlation Plot to understand relation between variables"
   ]
  },
  {
   "cell_type": "code",
   "execution_count": 202,
   "id": "c92e24dc",
   "metadata": {},
   "outputs": [
    {
     "data": {
      "text/html": [
       "<style  type=\"text/css\" >\n",
       "#T_985c6_row0_col0,#T_985c6_row1_col1,#T_985c6_row2_col2,#T_985c6_row3_col3,#T_985c6_row4_col4,#T_985c6_row5_col5,#T_985c6_row6_col6,#T_985c6_row7_col7,#T_985c6_row7_col10,#T_985c6_row8_col8,#T_985c6_row9_col9,#T_985c6_row10_col7,#T_985c6_row10_col10,#T_985c6_row11_col11{\n",
       "            background-color:  #3f007d;\n",
       "            color:  #f1f1f1;\n",
       "        }#T_985c6_row0_col1{\n",
       "            background-color:  #7d78b7;\n",
       "            color:  #000000;\n",
       "        }#T_985c6_row0_col2{\n",
       "            background-color:  #fbfafc;\n",
       "            color:  #000000;\n",
       "        }#T_985c6_row0_col3{\n",
       "            background-color:  #e1e0ee;\n",
       "            color:  #000000;\n",
       "        }#T_985c6_row0_col4,#T_985c6_row4_col5{\n",
       "            background-color:  #edebf4;\n",
       "            color:  #000000;\n",
       "        }#T_985c6_row0_col5,#T_985c6_row2_col11,#T_985c6_row3_col9,#T_985c6_row4_col9,#T_985c6_row6_col4{\n",
       "            background-color:  #f3f1f7;\n",
       "            color:  #000000;\n",
       "        }#T_985c6_row0_col6,#T_985c6_row2_col9,#T_985c6_row3_col4,#T_985c6_row3_col8,#T_985c6_row4_col3,#T_985c6_row5_col7,#T_985c6_row5_col10,#T_985c6_row5_col11,#T_985c6_row6_col0,#T_985c6_row6_col1,#T_985c6_row6_col2,#T_985c6_row7_col2,#T_985c6_row9_col2,#T_985c6_row10_col2,#T_985c6_row11_col2,#T_985c6_row11_col5{\n",
       "            background-color:  #fcfbfd;\n",
       "            color:  #000000;\n",
       "        }#T_985c6_row0_col7,#T_985c6_row0_col10,#T_985c6_row1_col7,#T_985c6_row1_col10{\n",
       "            background-color:  #cacae3;\n",
       "            color:  #000000;\n",
       "        }#T_985c6_row0_col8,#T_985c6_row5_col8,#T_985c6_row8_col5{\n",
       "            background-color:  #dfdfed;\n",
       "            color:  #000000;\n",
       "        }#T_985c6_row0_col9,#T_985c6_row3_col2,#T_985c6_row7_col8,#T_985c6_row10_col8,#T_985c6_row11_col4{\n",
       "            background-color:  #f2f0f7;\n",
       "            color:  #000000;\n",
       "        }#T_985c6_row0_col11{\n",
       "            background-color:  #cecfe5;\n",
       "            color:  #000000;\n",
       "        }#T_985c6_row1_col0{\n",
       "            background-color:  #7566ae;\n",
       "            color:  #000000;\n",
       "        }#T_985c6_row1_col2,#T_985c6_row8_col2{\n",
       "            background-color:  #f9f7fb;\n",
       "            color:  #000000;\n",
       "        }#T_985c6_row1_col3,#T_985c6_row1_col8,#T_985c6_row2_col0,#T_985c6_row3_col1,#T_985c6_row9_col7,#T_985c6_row9_col10{\n",
       "            background-color:  #dcdcec;\n",
       "            color:  #000000;\n",
       "        }#T_985c6_row1_col4,#T_985c6_row2_col1{\n",
       "            background-color:  #ecebf4;\n",
       "            color:  #000000;\n",
       "        }#T_985c6_row1_col5{\n",
       "            background-color:  #f3f2f8;\n",
       "            color:  #000000;\n",
       "        }#T_985c6_row1_col6,#T_985c6_row4_col1{\n",
       "            background-color:  #eeecf4;\n",
       "            color:  #000000;\n",
       "        }#T_985c6_row1_col9{\n",
       "            background-color:  #e0e0ee;\n",
       "            color:  #000000;\n",
       "        }#T_985c6_row1_col11{\n",
       "            background-color:  #cbcbe3;\n",
       "            color:  #000000;\n",
       "        }#T_985c6_row2_col3,#T_985c6_row3_col7,#T_985c6_row3_col10,#T_985c6_row4_col6{\n",
       "            background-color:  #e2e1ef;\n",
       "            color:  #000000;\n",
       "        }#T_985c6_row2_col4{\n",
       "            background-color:  #eae8f2;\n",
       "            color:  #000000;\n",
       "        }#T_985c6_row2_col5{\n",
       "            background-color:  #efedf5;\n",
       "            color:  #000000;\n",
       "        }#T_985c6_row2_col6,#T_985c6_row5_col0,#T_985c6_row8_col9,#T_985c6_row9_col5{\n",
       "            background-color:  #ddddec;\n",
       "            color:  #000000;\n",
       "        }#T_985c6_row2_col7,#T_985c6_row2_col10,#T_985c6_row5_col3,#T_985c6_row8_col11{\n",
       "            background-color:  #f4f3f8;\n",
       "            color:  #000000;\n",
       "        }#T_985c6_row2_col8{\n",
       "            background-color:  #f0eef5;\n",
       "            color:  #000000;\n",
       "        }#T_985c6_row3_col0{\n",
       "            background-color:  #cccce4;\n",
       "            color:  #000000;\n",
       "        }#T_985c6_row3_col5{\n",
       "            background-color:  #f8f6fa;\n",
       "            color:  #000000;\n",
       "        }#T_985c6_row3_col6{\n",
       "            background-color:  #d1d2e7;\n",
       "            color:  #000000;\n",
       "        }#T_985c6_row3_col11{\n",
       "            background-color:  #dedeed;\n",
       "            color:  #000000;\n",
       "        }#T_985c6_row4_col0,#T_985c6_row9_col11,#T_985c6_row11_col3{\n",
       "            background-color:  #dadaeb;\n",
       "            color:  #000000;\n",
       "        }#T_985c6_row4_col2{\n",
       "            background-color:  #f7f6fa;\n",
       "            color:  #000000;\n",
       "        }#T_985c6_row4_col7,#T_985c6_row4_col10,#T_985c6_row4_col11{\n",
       "            background-color:  #f5f4f9;\n",
       "            color:  #000000;\n",
       "        }#T_985c6_row4_col8,#T_985c6_row5_col9{\n",
       "            background-color:  #eae9f3;\n",
       "            color:  #000000;\n",
       "        }#T_985c6_row5_col1,#T_985c6_row7_col4,#T_985c6_row10_col4{\n",
       "            background-color:  #f1eff6;\n",
       "            color:  #000000;\n",
       "        }#T_985c6_row5_col2{\n",
       "            background-color:  #f8f7fa;\n",
       "            color:  #000000;\n",
       "        }#T_985c6_row5_col4{\n",
       "            background-color:  #e8e7f2;\n",
       "            color:  #000000;\n",
       "        }#T_985c6_row5_col6,#T_985c6_row6_col3,#T_985c6_row6_col9,#T_985c6_row8_col4{\n",
       "            background-color:  #e6e5f1;\n",
       "            color:  #000000;\n",
       "        }#T_985c6_row6_col5,#T_985c6_row8_col3{\n",
       "            background-color:  #f9f8fb;\n",
       "            color:  #000000;\n",
       "        }#T_985c6_row6_col7,#T_985c6_row6_col10{\n",
       "            background-color:  #8d89c0;\n",
       "            color:  #000000;\n",
       "        }#T_985c6_row6_col8{\n",
       "            background-color:  #f8f7fb;\n",
       "            color:  #000000;\n",
       "        }#T_985c6_row6_col11{\n",
       "            background-color:  #8380bb;\n",
       "            color:  #000000;\n",
       "        }#T_985c6_row7_col0,#T_985c6_row10_col0{\n",
       "            background-color:  #aeacd2;\n",
       "            color:  #000000;\n",
       "        }#T_985c6_row7_col1,#T_985c6_row10_col1{\n",
       "            background-color:  #c3c4e0;\n",
       "            color:  #000000;\n",
       "        }#T_985c6_row7_col3,#T_985c6_row10_col3{\n",
       "            background-color:  #dbdbec;\n",
       "            color:  #000000;\n",
       "        }#T_985c6_row7_col5,#T_985c6_row10_col5{\n",
       "            background-color:  #faf9fc;\n",
       "            color:  #000000;\n",
       "        }#T_985c6_row7_col6,#T_985c6_row10_col6{\n",
       "            background-color:  #7d77b7;\n",
       "            color:  #000000;\n",
       "        }#T_985c6_row7_col9,#T_985c6_row10_col9,#T_985c6_row11_col9{\n",
       "            background-color:  #e7e6f1;\n",
       "            color:  #000000;\n",
       "        }#T_985c6_row7_col11,#T_985c6_row10_col11,#T_985c6_row11_col7,#T_985c6_row11_col10{\n",
       "            background-color:  #41047f;\n",
       "            color:  #f1f1f1;\n",
       "        }#T_985c6_row8_col0{\n",
       "            background-color:  #c4c5e0;\n",
       "            color:  #000000;\n",
       "        }#T_985c6_row8_col1{\n",
       "            background-color:  #d8d8ea;\n",
       "            color:  #000000;\n",
       "        }#T_985c6_row8_col6{\n",
       "            background-color:  #e4e3f0;\n",
       "            color:  #000000;\n",
       "        }#T_985c6_row8_col7,#T_985c6_row8_col10,#T_985c6_row11_col8{\n",
       "            background-color:  #f4f2f8;\n",
       "            color:  #000000;\n",
       "        }#T_985c6_row9_col0,#T_985c6_row9_col8{\n",
       "            background-color:  #cdcde4;\n",
       "            color:  #000000;\n",
       "        }#T_985c6_row9_col1{\n",
       "            background-color:  #cecee5;\n",
       "            color:  #000000;\n",
       "        }#T_985c6_row9_col3,#T_985c6_row9_col4{\n",
       "            background-color:  #e2e2ef;\n",
       "            color:  #000000;\n",
       "        }#T_985c6_row9_col6{\n",
       "            background-color:  #bdbedc;\n",
       "            color:  #000000;\n",
       "        }#T_985c6_row11_col0{\n",
       "            background-color:  #b4b4d7;\n",
       "            color:  #000000;\n",
       "        }#T_985c6_row11_col1{\n",
       "            background-color:  #c7c8e1;\n",
       "            color:  #000000;\n",
       "        }#T_985c6_row11_col6{\n",
       "            background-color:  #776cb1;\n",
       "            color:  #000000;\n",
       "        }</style><table id=\"T_985c6_\" ><thead>    <tr>        <th class=\"blank level0\" ></th>        <th class=\"col_heading level0 col0\" >id</th>        <th class=\"col_heading level0 col1\" >host_id</th>        <th class=\"col_heading level0 col2\" >latitude</th>        <th class=\"col_heading level0 col3\" >longitude</th>        <th class=\"col_heading level0 col4\" >price</th>        <th class=\"col_heading level0 col5\" >minimum_nights</th>        <th class=\"col_heading level0 col6\" >number_of_reviews</th>        <th class=\"col_heading level0 col7\" >reviews_per_month</th>        <th class=\"col_heading level0 col8\" >calculated_host_listings_count</th>        <th class=\"col_heading level0 col9\" >availability_365</th>        <th class=\"col_heading level0 col10\" >reviews_per_month_mean</th>        <th class=\"col_heading level0 col11\" >reviews_per_month_median</th>    </tr></thead><tbody>\n",
       "                <tr>\n",
       "                        <th id=\"T_985c6_level0_row0\" class=\"row_heading level0 row0\" >id</th>\n",
       "                        <td id=\"T_985c6_row0_col0\" class=\"data row0 col0\" >1.00</td>\n",
       "                        <td id=\"T_985c6_row0_col1\" class=\"data row0 col1\" >0.59</td>\n",
       "                        <td id=\"T_985c6_row0_col2\" class=\"data row0 col2\" >-0.00</td>\n",
       "                        <td id=\"T_985c6_row0_col3\" class=\"data row0 col3\" >0.09</td>\n",
       "                        <td id=\"T_985c6_row0_col4\" class=\"data row0 col4\" >0.01</td>\n",
       "                        <td id=\"T_985c6_row0_col5\" class=\"data row0 col5\" >-0.01</td>\n",
       "                        <td id=\"T_985c6_row0_col6\" class=\"data row0 col6\" >-0.32</td>\n",
       "                        <td id=\"T_985c6_row0_col7\" class=\"data row0 col7\" >0.25</td>\n",
       "                        <td id=\"T_985c6_row0_col8\" class=\"data row0 col8\" >0.13</td>\n",
       "                        <td id=\"T_985c6_row0_col9\" class=\"data row0 col9\" >0.09</td>\n",
       "                        <td id=\"T_985c6_row0_col10\" class=\"data row0 col10\" >0.25</td>\n",
       "                        <td id=\"T_985c6_row0_col11\" class=\"data row0 col11\" >0.22</td>\n",
       "            </tr>\n",
       "            <tr>\n",
       "                        <th id=\"T_985c6_level0_row1\" class=\"row_heading level0 row1\" >host_id</th>\n",
       "                        <td id=\"T_985c6_row1_col0\" class=\"data row1 col0\" >0.59</td>\n",
       "                        <td id=\"T_985c6_row1_col1\" class=\"data row1 col1\" >1.00</td>\n",
       "                        <td id=\"T_985c6_row1_col2\" class=\"data row1 col2\" >0.02</td>\n",
       "                        <td id=\"T_985c6_row1_col3\" class=\"data row1 col3\" >0.13</td>\n",
       "                        <td id=\"T_985c6_row1_col4\" class=\"data row1 col4\" >0.02</td>\n",
       "                        <td id=\"T_985c6_row1_col5\" class=\"data row1 col5\" >-0.02</td>\n",
       "                        <td id=\"T_985c6_row1_col6\" class=\"data row1 col6\" >-0.14</td>\n",
       "                        <td id=\"T_985c6_row1_col7\" class=\"data row1 col7\" >0.25</td>\n",
       "                        <td id=\"T_985c6_row1_col8\" class=\"data row1 col8\" >0.15</td>\n",
       "                        <td id=\"T_985c6_row1_col9\" class=\"data row1 col9\" >0.20</td>\n",
       "                        <td id=\"T_985c6_row1_col10\" class=\"data row1 col10\" >0.25</td>\n",
       "                        <td id=\"T_985c6_row1_col11\" class=\"data row1 col11\" >0.24</td>\n",
       "            </tr>\n",
       "            <tr>\n",
       "                        <th id=\"T_985c6_level0_row2\" class=\"row_heading level0 row2\" >latitude</th>\n",
       "                        <td id=\"T_985c6_row2_col0\" class=\"data row2 col0\" >-0.00</td>\n",
       "                        <td id=\"T_985c6_row2_col1\" class=\"data row2 col1\" >0.02</td>\n",
       "                        <td id=\"T_985c6_row2_col2\" class=\"data row2 col2\" >1.00</td>\n",
       "                        <td id=\"T_985c6_row2_col3\" class=\"data row2 col3\" >0.08</td>\n",
       "                        <td id=\"T_985c6_row2_col4\" class=\"data row2 col4\" >0.03</td>\n",
       "                        <td id=\"T_985c6_row2_col5\" class=\"data row2 col5\" >0.03</td>\n",
       "                        <td id=\"T_985c6_row2_col6\" class=\"data row2 col6\" >-0.02</td>\n",
       "                        <td id=\"T_985c6_row2_col7\" class=\"data row2 col7\" >-0.01</td>\n",
       "                        <td id=\"T_985c6_row2_col8\" class=\"data row2 col8\" >0.02</td>\n",
       "                        <td id=\"T_985c6_row2_col9\" class=\"data row2 col9\" >-0.01</td>\n",
       "                        <td id=\"T_985c6_row2_col10\" class=\"data row2 col10\" >-0.01</td>\n",
       "                        <td id=\"T_985c6_row2_col11\" class=\"data row2 col11\" >-0.01</td>\n",
       "            </tr>\n",
       "            <tr>\n",
       "                        <th id=\"T_985c6_level0_row3\" class=\"row_heading level0 row3\" >longitude</th>\n",
       "                        <td id=\"T_985c6_row3_col0\" class=\"data row3 col0\" >0.09</td>\n",
       "                        <td id=\"T_985c6_row3_col1\" class=\"data row3 col1\" >0.13</td>\n",
       "                        <td id=\"T_985c6_row3_col2\" class=\"data row3 col2\" >0.08</td>\n",
       "                        <td id=\"T_985c6_row3_col3\" class=\"data row3 col3\" >1.00</td>\n",
       "                        <td id=\"T_985c6_row3_col4\" class=\"data row3 col4\" >-0.15</td>\n",
       "                        <td id=\"T_985c6_row3_col5\" class=\"data row3 col5\" >-0.06</td>\n",
       "                        <td id=\"T_985c6_row3_col6\" class=\"data row3 col6\" >0.06</td>\n",
       "                        <td id=\"T_985c6_row3_col7\" class=\"data row3 col7\" >0.13</td>\n",
       "                        <td id=\"T_985c6_row3_col8\" class=\"data row3 col8\" >-0.11</td>\n",
       "                        <td id=\"T_985c6_row3_col9\" class=\"data row3 col9\" >0.08</td>\n",
       "                        <td id=\"T_985c6_row3_col10\" class=\"data row3 col10\" >0.13</td>\n",
       "                        <td id=\"T_985c6_row3_col11\" class=\"data row3 col11\" >0.14</td>\n",
       "            </tr>\n",
       "            <tr>\n",
       "                        <th id=\"T_985c6_level0_row4\" class=\"row_heading level0 row4\" >price</th>\n",
       "                        <td id=\"T_985c6_row4_col0\" class=\"data row4 col0\" >0.01</td>\n",
       "                        <td id=\"T_985c6_row4_col1\" class=\"data row4 col1\" >0.02</td>\n",
       "                        <td id=\"T_985c6_row4_col2\" class=\"data row4 col2\" >0.03</td>\n",
       "                        <td id=\"T_985c6_row4_col3\" class=\"data row4 col3\" >-0.15</td>\n",
       "                        <td id=\"T_985c6_row4_col4\" class=\"data row4 col4\" >1.00</td>\n",
       "                        <td id=\"T_985c6_row4_col5\" class=\"data row4 col5\" >0.04</td>\n",
       "                        <td id=\"T_985c6_row4_col6\" class=\"data row4 col6\" >-0.05</td>\n",
       "                        <td id=\"T_985c6_row4_col7\" class=\"data row4 col7\" >-0.02</td>\n",
       "                        <td id=\"T_985c6_row4_col8\" class=\"data row4 col8\" >0.06</td>\n",
       "                        <td id=\"T_985c6_row4_col9\" class=\"data row4 col9\" >0.08</td>\n",
       "                        <td id=\"T_985c6_row4_col10\" class=\"data row4 col10\" >-0.02</td>\n",
       "                        <td id=\"T_985c6_row4_col11\" class=\"data row4 col11\" >-0.04</td>\n",
       "            </tr>\n",
       "            <tr>\n",
       "                        <th id=\"T_985c6_level0_row5\" class=\"row_heading level0 row5\" >minimum_nights</th>\n",
       "                        <td id=\"T_985c6_row5_col0\" class=\"data row5 col0\" >-0.01</td>\n",
       "                        <td id=\"T_985c6_row5_col1\" class=\"data row5 col1\" >-0.02</td>\n",
       "                        <td id=\"T_985c6_row5_col2\" class=\"data row5 col2\" >0.03</td>\n",
       "                        <td id=\"T_985c6_row5_col3\" class=\"data row5 col3\" >-0.06</td>\n",
       "                        <td id=\"T_985c6_row5_col4\" class=\"data row5 col4\" >0.04</td>\n",
       "                        <td id=\"T_985c6_row5_col5\" class=\"data row5 col5\" >1.00</td>\n",
       "                        <td id=\"T_985c6_row5_col6\" class=\"data row5 col6\" >-0.08</td>\n",
       "                        <td id=\"T_985c6_row5_col7\" class=\"data row5 col7\" >-0.09</td>\n",
       "                        <td id=\"T_985c6_row5_col8\" class=\"data row5 col8\" >0.13</td>\n",
       "                        <td id=\"T_985c6_row5_col9\" class=\"data row5 col9\" >0.15</td>\n",
       "                        <td id=\"T_985c6_row5_col10\" class=\"data row5 col10\" >-0.09</td>\n",
       "                        <td id=\"T_985c6_row5_col11\" class=\"data row5 col11\" >-0.11</td>\n",
       "            </tr>\n",
       "            <tr>\n",
       "                        <th id=\"T_985c6_level0_row6\" class=\"row_heading level0 row6\" >number_of_reviews</th>\n",
       "                        <td id=\"T_985c6_row6_col0\" class=\"data row6 col0\" >-0.32</td>\n",
       "                        <td id=\"T_985c6_row6_col1\" class=\"data row6 col1\" >-0.14</td>\n",
       "                        <td id=\"T_985c6_row6_col2\" class=\"data row6 col2\" >-0.02</td>\n",
       "                        <td id=\"T_985c6_row6_col3\" class=\"data row6 col3\" >0.06</td>\n",
       "                        <td id=\"T_985c6_row6_col4\" class=\"data row6 col4\" >-0.05</td>\n",
       "                        <td id=\"T_985c6_row6_col5\" class=\"data row6 col5\" >-0.08</td>\n",
       "                        <td id=\"T_985c6_row6_col6\" class=\"data row6 col6\" >1.00</td>\n",
       "                        <td id=\"T_985c6_row6_col7\" class=\"data row6 col7\" >0.53</td>\n",
       "                        <td id=\"T_985c6_row6_col8\" class=\"data row6 col8\" >-0.07</td>\n",
       "                        <td id=\"T_985c6_row6_col9\" class=\"data row6 col9\" >0.17</td>\n",
       "                        <td id=\"T_985c6_row6_col10\" class=\"data row6 col10\" >0.53</td>\n",
       "                        <td id=\"T_985c6_row6_col11\" class=\"data row6 col11\" >0.57</td>\n",
       "            </tr>\n",
       "            <tr>\n",
       "                        <th id=\"T_985c6_level0_row7\" class=\"row_heading level0 row7\" >reviews_per_month</th>\n",
       "                        <td id=\"T_985c6_row7_col0\" class=\"data row7 col0\" >0.25</td>\n",
       "                        <td id=\"T_985c6_row7_col1\" class=\"data row7 col1\" >0.25</td>\n",
       "                        <td id=\"T_985c6_row7_col2\" class=\"data row7 col2\" >-0.01</td>\n",
       "                        <td id=\"T_985c6_row7_col3\" class=\"data row7 col3\" >0.13</td>\n",
       "                        <td id=\"T_985c6_row7_col4\" class=\"data row7 col4\" >-0.02</td>\n",
       "                        <td id=\"T_985c6_row7_col5\" class=\"data row7 col5\" >-0.09</td>\n",
       "                        <td id=\"T_985c6_row7_col6\" class=\"data row7 col6\" >0.53</td>\n",
       "                        <td id=\"T_985c6_row7_col7\" class=\"data row7 col7\" >1.00</td>\n",
       "                        <td id=\"T_985c6_row7_col8\" class=\"data row7 col8\" >-0.01</td>\n",
       "                        <td id=\"T_985c6_row7_col9\" class=\"data row7 col9\" >0.16</td>\n",
       "                        <td id=\"T_985c6_row7_col10\" class=\"data row7 col10\" >1.00</td>\n",
       "                        <td id=\"T_985c6_row7_col11\" class=\"data row7 col11\" >0.98</td>\n",
       "            </tr>\n",
       "            <tr>\n",
       "                        <th id=\"T_985c6_level0_row8\" class=\"row_heading level0 row8\" >calculated_host_listings_count</th>\n",
       "                        <td id=\"T_985c6_row8_col0\" class=\"data row8 col0\" >0.13</td>\n",
       "                        <td id=\"T_985c6_row8_col1\" class=\"data row8 col1\" >0.15</td>\n",
       "                        <td id=\"T_985c6_row8_col2\" class=\"data row8 col2\" >0.02</td>\n",
       "                        <td id=\"T_985c6_row8_col3\" class=\"data row8 col3\" >-0.11</td>\n",
       "                        <td id=\"T_985c6_row8_col4\" class=\"data row8 col4\" >0.06</td>\n",
       "                        <td id=\"T_985c6_row8_col5\" class=\"data row8 col5\" >0.13</td>\n",
       "                        <td id=\"T_985c6_row8_col6\" class=\"data row8 col6\" >-0.07</td>\n",
       "                        <td id=\"T_985c6_row8_col7\" class=\"data row8 col7\" >-0.01</td>\n",
       "                        <td id=\"T_985c6_row8_col8\" class=\"data row8 col8\" >1.00</td>\n",
       "                        <td id=\"T_985c6_row8_col9\" class=\"data row8 col9\" >0.23</td>\n",
       "                        <td id=\"T_985c6_row8_col10\" class=\"data row8 col10\" >-0.01</td>\n",
       "                        <td id=\"T_985c6_row8_col11\" class=\"data row8 col11\" >-0.03</td>\n",
       "            </tr>\n",
       "            <tr>\n",
       "                        <th id=\"T_985c6_level0_row9\" class=\"row_heading level0 row9\" >availability_365</th>\n",
       "                        <td id=\"T_985c6_row9_col0\" class=\"data row9 col0\" >0.09</td>\n",
       "                        <td id=\"T_985c6_row9_col1\" class=\"data row9 col1\" >0.20</td>\n",
       "                        <td id=\"T_985c6_row9_col2\" class=\"data row9 col2\" >-0.01</td>\n",
       "                        <td id=\"T_985c6_row9_col3\" class=\"data row9 col3\" >0.08</td>\n",
       "                        <td id=\"T_985c6_row9_col4\" class=\"data row9 col4\" >0.08</td>\n",
       "                        <td id=\"T_985c6_row9_col5\" class=\"data row9 col5\" >0.15</td>\n",
       "                        <td id=\"T_985c6_row9_col6\" class=\"data row9 col6\" >0.17</td>\n",
       "                        <td id=\"T_985c6_row9_col7\" class=\"data row9 col7\" >0.16</td>\n",
       "                        <td id=\"T_985c6_row9_col8\" class=\"data row9 col8\" >0.23</td>\n",
       "                        <td id=\"T_985c6_row9_col9\" class=\"data row9 col9\" >1.00</td>\n",
       "                        <td id=\"T_985c6_row9_col10\" class=\"data row9 col10\" >0.16</td>\n",
       "                        <td id=\"T_985c6_row9_col11\" class=\"data row9 col11\" >0.17</td>\n",
       "            </tr>\n",
       "            <tr>\n",
       "                        <th id=\"T_985c6_level0_row10\" class=\"row_heading level0 row10\" >reviews_per_month_mean</th>\n",
       "                        <td id=\"T_985c6_row10_col0\" class=\"data row10 col0\" >0.25</td>\n",
       "                        <td id=\"T_985c6_row10_col1\" class=\"data row10 col1\" >0.25</td>\n",
       "                        <td id=\"T_985c6_row10_col2\" class=\"data row10 col2\" >-0.01</td>\n",
       "                        <td id=\"T_985c6_row10_col3\" class=\"data row10 col3\" >0.13</td>\n",
       "                        <td id=\"T_985c6_row10_col4\" class=\"data row10 col4\" >-0.02</td>\n",
       "                        <td id=\"T_985c6_row10_col5\" class=\"data row10 col5\" >-0.09</td>\n",
       "                        <td id=\"T_985c6_row10_col6\" class=\"data row10 col6\" >0.53</td>\n",
       "                        <td id=\"T_985c6_row10_col7\" class=\"data row10 col7\" >1.00</td>\n",
       "                        <td id=\"T_985c6_row10_col8\" class=\"data row10 col8\" >-0.01</td>\n",
       "                        <td id=\"T_985c6_row10_col9\" class=\"data row10 col9\" >0.16</td>\n",
       "                        <td id=\"T_985c6_row10_col10\" class=\"data row10 col10\" >1.00</td>\n",
       "                        <td id=\"T_985c6_row10_col11\" class=\"data row10 col11\" >0.98</td>\n",
       "            </tr>\n",
       "            <tr>\n",
       "                        <th id=\"T_985c6_level0_row11\" class=\"row_heading level0 row11\" >reviews_per_month_median</th>\n",
       "                        <td id=\"T_985c6_row11_col0\" class=\"data row11 col0\" >0.22</td>\n",
       "                        <td id=\"T_985c6_row11_col1\" class=\"data row11 col1\" >0.24</td>\n",
       "                        <td id=\"T_985c6_row11_col2\" class=\"data row11 col2\" >-0.01</td>\n",
       "                        <td id=\"T_985c6_row11_col3\" class=\"data row11 col3\" >0.14</td>\n",
       "                        <td id=\"T_985c6_row11_col4\" class=\"data row11 col4\" >-0.04</td>\n",
       "                        <td id=\"T_985c6_row11_col5\" class=\"data row11 col5\" >-0.11</td>\n",
       "                        <td id=\"T_985c6_row11_col6\" class=\"data row11 col6\" >0.57</td>\n",
       "                        <td id=\"T_985c6_row11_col7\" class=\"data row11 col7\" >0.98</td>\n",
       "                        <td id=\"T_985c6_row11_col8\" class=\"data row11 col8\" >-0.03</td>\n",
       "                        <td id=\"T_985c6_row11_col9\" class=\"data row11 col9\" >0.17</td>\n",
       "                        <td id=\"T_985c6_row11_col10\" class=\"data row11 col10\" >0.98</td>\n",
       "                        <td id=\"T_985c6_row11_col11\" class=\"data row11 col11\" >1.00</td>\n",
       "            </tr>\n",
       "    </tbody></table>"
      ],
      "text/plain": [
       "<pandas.io.formats.style.Styler at 0x7fe9fd053190>"
      ]
     },
     "execution_count": 202,
     "metadata": {},
     "output_type": "execute_result"
    }
   ],
   "source": [
    "corr = df.corr()\n",
    "corr.style.background_gradient(cmap='Purples').set_precision(2)"
   ]
  },
  {
   "cell_type": "markdown",
   "id": "7e6a928d",
   "metadata": {},
   "source": [
    "### Exporting data into csv"
   ]
  },
  {
   "cell_type": "code",
   "execution_count": 203,
   "id": "24c7a58a",
   "metadata": {},
   "outputs": [],
   "source": [
    "df.to_csv('samplenycairbnb.csv', index=False)"
   ]
  },
  {
   "cell_type": "code",
   "execution_count": 204,
   "id": "96fe9120",
   "metadata": {},
   "outputs": [
    {
     "name": "stdout",
     "output_type": "stream",
     "text": [
      "<class 'pandas.core.frame.DataFrame'>\n",
      "Int64Index: 48858 entries, 0 to 48894\n",
      "Data columns (total 18 columns):\n",
      " #   Column                          Non-Null Count  Dtype  \n",
      "---  ------                          --------------  -----  \n",
      " 0   id                              48858 non-null  int64  \n",
      " 1   name                            48858 non-null  object \n",
      " 2   host_id                         48858 non-null  int64  \n",
      " 3   host_name                       48858 non-null  object \n",
      " 4   neighbourhood_group             48858 non-null  object \n",
      " 5   neighbourhood                   48858 non-null  object \n",
      " 6   latitude                        48858 non-null  float64\n",
      " 7   longitude                       48858 non-null  float64\n",
      " 8   room_type                       48858 non-null  object \n",
      " 9   price                           48858 non-null  int64  \n",
      " 10  minimum_nights                  48858 non-null  int64  \n",
      " 11  number_of_reviews               48858 non-null  int64  \n",
      " 12  last_review                     48858 non-null  object \n",
      " 13  reviews_per_month               48858 non-null  float64\n",
      " 14  calculated_host_listings_count  48858 non-null  int64  \n",
      " 15  availability_365                48858 non-null  int64  \n",
      " 16  reviews_per_month_mean          48858 non-null  float64\n",
      " 17  reviews_per_month_median        48858 non-null  float64\n",
      "dtypes: float64(5), int64(7), object(6)\n",
      "memory usage: 7.1+ MB\n"
     ]
    }
   ],
   "source": [
    "df.info()"
   ]
  },
  {
   "cell_type": "markdown",
   "id": "e93de67e",
   "metadata": {},
   "source": [
    "### Predictive Modelling"
   ]
  },
  {
   "cell_type": "markdown",
   "id": "c01a4d85",
   "metadata": {},
   "source": [
    "### One Hot Encoding"
   ]
  },
  {
   "cell_type": "code",
   "execution_count": 218,
   "id": "84521533",
   "metadata": {},
   "outputs": [],
   "source": [
    "X_features_encode = pd.get_dummies(df, columns = {'neighbourhood_group','neighbourhood','room_type'})"
   ]
  },
  {
   "cell_type": "code",
   "execution_count": 219,
   "id": "320cdbe2",
   "metadata": {},
   "outputs": [],
   "source": [
    "X_features = X_features_encode.drop(['availability_365','name','host_name','last_review','latitude','longitude','reviews_per_month_mean','reviews_per_month_median'], axis = 1, inplace = False)"
   ]
  },
  {
   "cell_type": "code",
   "execution_count": 220,
   "id": "d80f0eeb",
   "metadata": {},
   "outputs": [],
   "source": [
    "#X_features = df.drop(['availability_365','name','host_name','last_review','neighbourhood_group','neighbourhood','room_type','latitude','longitude','reviews_per_month_mean','reviews_per_month_median'], axis = 1, inplace = False)"
   ]
  },
  {
   "cell_type": "code",
   "execution_count": 221,
   "id": "f7ea7f29",
   "metadata": {},
   "outputs": [
    {
     "data": {
      "text/plain": [
       "Index(['id', 'host_id', 'price', 'minimum_nights', 'number_of_reviews',\n",
       "       'reviews_per_month', 'calculated_host_listings_count',\n",
       "       'room_type_Entire home/apt', 'room_type_Private room',\n",
       "       'room_type_Shared room',\n",
       "       ...\n",
       "       'neighbourhood_Westerleigh', 'neighbourhood_Whitestone',\n",
       "       'neighbourhood_Williamsbridge', 'neighbourhood_Williamsburg',\n",
       "       'neighbourhood_Willowbrook', 'neighbourhood_Windsor Terrace',\n",
       "       'neighbourhood_Woodhaven', 'neighbourhood_Woodlawn',\n",
       "       'neighbourhood_Woodrow', 'neighbourhood_Woodside'],\n",
       "      dtype='object', length=236)"
      ]
     },
     "execution_count": 221,
     "metadata": {},
     "output_type": "execute_result"
    }
   ],
   "source": [
    "X_features.columns"
   ]
  },
  {
   "cell_type": "code",
   "execution_count": 222,
   "id": "a1578522",
   "metadata": {},
   "outputs": [],
   "source": [
    "y = X_features_encode['availability_365']"
   ]
  },
  {
   "cell_type": "markdown",
   "id": "8421d7f1",
   "metadata": {},
   "source": [
    "### Checking if the data is normally distributed"
   ]
  },
  {
   "cell_type": "code",
   "execution_count": 223,
   "id": "7c9f67c1",
   "metadata": {
    "scrolled": true
   },
   "outputs": [
    {
     "data": {
      "text/plain": [
       "<AxesSubplot:>"
      ]
     },
     "execution_count": 223,
     "metadata": {},
     "output_type": "execute_result"
    },
    {
     "data": {
      "image/png": "[encoded data removed]",
      "text/plain": [
       "<Figure size 432x288 with 1 Axes>"
      ]
     },
     "metadata": {
      "needs_background": "light"
     },
     "output_type": "display_data"
    }
   ],
   "source": [
    "y.hist()"
   ]
  },
  {
   "cell_type": "code",
   "execution_count": 224,
   "id": "24438814",
   "metadata": {},
   "outputs": [],
   "source": [
    "y_log = np.log1p(y)"
   ]
  },
  {
   "cell_type": "code",
   "execution_count": 225,
   "id": "4fc104a8",
   "metadata": {},
   "outputs": [
    {
     "data": {
      "text/plain": [
       "<AxesSubplot:>"
      ]
     },
     "execution_count": 225,
     "metadata": {},
     "output_type": "execute_result"
    },
    {
     "data": {
      "image/png": "[encoded data removed]",
      "text/plain": [
       "<Figure size 432x288 with 1 Axes>"
      ]
     },
     "metadata": {
      "needs_background": "light"
     },
     "output_type": "display_data"
    }
   ],
   "source": [
    "y_log.hist()"
   ]
  },
  {
   "cell_type": "markdown",
   "id": "19bf1901",
   "metadata": {},
   "source": [
    "### Splitting the data into train and test data"
   ]
  },
  {
   "cell_type": "code",
   "execution_count": 226,
   "id": "3f28ef57",
   "metadata": {},
   "outputs": [],
   "source": [
    "X_train, X_test, y_train, y_test = train_test_split(X_features, y, test_size=0.2, random_state=0)"
   ]
  },
  {
   "cell_type": "markdown",
   "id": "6737f2b5",
   "metadata": {},
   "source": [
    "### Linear Regression"
   ]
  },
  {
   "cell_type": "code",
   "execution_count": 227,
   "id": "ce9acdaa",
   "metadata": {},
   "outputs": [
    {
     "data": {
      "text/plain": [
       "0.17996828634682827"
      ]
     },
     "execution_count": 227,
     "metadata": {},
     "output_type": "execute_result"
    }
   ],
   "source": [
    "regr = linear_model.LinearRegression()\n",
    "regr.fit(X_train, y_train)\n",
    "regr_score = regr.score(X_test, y_test)\n",
    "regr_score"
   ]
  },
  {
   "cell_type": "code",
   "execution_count": 228,
   "id": "51628b20",
   "metadata": {},
   "outputs": [],
   "source": [
    "y_pred = regr.predict(X_test)"
   ]
  },
  {
   "cell_type": "code",
   "execution_count": 229,
   "id": "24d02c6e",
   "metadata": {},
   "outputs": [
    {
     "name": "stdout",
     "output_type": "stream",
     "text": [
      "Mean Absolute Error: 98.64848190778869\n",
      "Mean Squared Error: 14183.086336867567\n",
      "Root Mean Squared Error: 119.09276357893273\n"
     ]
    }
   ],
   "source": [
    "print('Mean Absolute Error:', metrics.mean_absolute_error(y_test, y_pred))\n",
    "print('Mean Squared Error:', metrics.mean_squared_error(y_test, y_pred))\n",
    "print('Root Mean Squared Error:', np.sqrt(metrics.mean_squared_error(y_test, y_pred)))"
   ]
  },
  {
   "cell_type": "markdown",
   "id": "0dd04fb8",
   "metadata": {},
   "source": [
    "### Random Forest Regressor"
   ]
  },
  {
   "cell_type": "code",
   "execution_count": 233,
   "id": "ee69fd8a",
   "metadata": {},
   "outputs": [
    {
     "data": {
      "text/plain": [
       "0.41150362871459856"
      ]
     },
     "execution_count": 233,
     "metadata": {},
     "output_type": "execute_result"
    }
   ],
   "source": [
    "model=RandomForestRegressor(n_estimators=100)\n",
    "model.fit(X_train,y_train)\n",
    "y_pred=model.predict(X_test)\n",
    "reg_score = model.score(X_test, y_test)\n",
    "reg_score"
   ]
  },
  {
   "cell_type": "code",
   "execution_count": 234,
   "id": "c42ee850",
   "metadata": {},
   "outputs": [],
   "source": [
    "y_pred = model.predict(X_test)"
   ]
  },
  {
   "cell_type": "code",
   "execution_count": 235,
   "id": "a569ca02",
   "metadata": {},
   "outputs": [
    {
     "name": "stdout",
     "output_type": "stream",
     "text": [
      "Mean Absolute Error: 73.0854400437109\n",
      "Mean Squared Error: 10178.502494361228\n",
      "Root Mean Squared Error: 100.8885647353615\n"
     ]
    }
   ],
   "source": [
    "print('Mean Absolute Error:', metrics.mean_absolute_error(y_test, y_pred))\n",
    "print('Mean Squared Error:', metrics.mean_squared_error(y_test, y_pred))\n",
    "print('Root Mean Squared Error:', np.sqrt(metrics.mean_squared_error(y_test, y_pred)))"
   ]
  },
  {
   "cell_type": "code",
   "execution_count": null,
   "id": "24cc7d8b",
   "metadata": {},
   "outputs": [],
   "source": []
  }
 ],
 "metadata": {
  "kernelspec": {
   "display_name": "Python 3",
   "language": "python",
   "name": "python3"
  },
  "language_info": {
   "codemirror_mode": {
    "name": "ipython",
    "version": 3
   },
   "file_extension": ".py",
   "mimetype": "text/x-python",
   "name": "python",
   "nbconvert_exporter": "python",
   "pygments_lexer": "ipython3",
   "version": "3.8.8"
  }
 },
 "nbformat": 4,
 "nbformat_minor": 5
}
